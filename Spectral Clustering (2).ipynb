{
 "cells": [
  {
   "cell_type": "markdown",
   "metadata": {},
   "source": [
    "Let's import `pandas` and `numpy` for data structures, and `seaborn` and `matplotlib` for viz. We also want to import `scooby` so we can see what version of `sklearn` and `seaborn` we have installed"
   ]
  },
  {
   "cell_type": "code",
   "execution_count": 1,
   "metadata": {},
   "outputs": [],
   "source": [
    "import pandas as pd\n",
    "import matplotlib.pyplot as plt\n",
    "import numpy as np\n",
    "import scooby\n",
    "import seaborn as sns\n",
    "\n",
    "sns.set()  # make it pretty\n",
    "import sklearn  # for label encoding\n",
    "\n",
    "%matplotlib inline"
   ]
  },
  {
   "cell_type": "markdown",
   "metadata": {},
   "source": [
    "Run a `scooby` report to see what versions we have installed"
   ]
  },
  {
   "cell_type": "code",
   "execution_count": 2,
   "metadata": {},
   "outputs": [
    {
     "data": {
      "text/html": [
       "<table style='border: 3px solid #ddd;'>\n",
       "  <tr>\n",
       "     <td style='text-align: center; font-weight: bold; font-size: 1.2em; border: 2px solid #fff;' colspan='6'>Tue Nov 17 10:15:54 2020 CST</td>\n",
       "  </tr>\n",
       "  <tr>\n",
       "    <td style='text-align: right; background-color: #ccc; border: 2px solid #fff;'>OS</td>\n",
       "    <td style='text-align: left; border: 2px solid #fff;'>Darwin</td>\n",
       "    <td style='text-align: right; background-color: #ccc; border: 2px solid #fff;'>CPU(s)</td>\n",
       "    <td style='text-align: left; border: 2px solid #fff;'>12</td>\n",
       "    <td style='text-align: right; background-color: #ccc; border: 2px solid #fff;'>Machine</td>\n",
       "    <td style='text-align: left; border: 2px solid #fff;'>x86_64</td>\n",
       "  </tr>\n",
       "  <tr>\n",
       "    <td style='text-align: right; background-color: #ccc; border: 2px solid #fff;'>Architecture</td>\n",
       "    <td style='text-align: left; border: 2px solid #fff;'>64bit</td>\n",
       "    <td style='text-align: right; background-color: #ccc; border: 2px solid #fff;'>RAM</td>\n",
       "    <td style='text-align: left; border: 2px solid #fff;'>16.0 GB</td>\n",
       "    <td style='text-align: right; background-color: #ccc; border: 2px solid #fff;'>Environment</td>\n",
       "    <td style='text-align: left; border: 2px solid #fff;'>Jupyter</td>\n",
       "  </tr>\n",
       "  <tr>\n",
       "     <td style='text-align: center; border: 2px solid #fff;' colspan='6'>Python 3.7.3 (default, Mar 27 2019, 16:54:48) \n",
       "[Clang 4.0.1 (tags/RELEASE_401/final)]</td>\n",
       "  </tr>\n",
       "  <tr>\n",
       "    <td style='text-align: right; background-color: #ccc; border: 2px solid #fff;'>sklearn</td>\n",
       "    <td style='text-align: left; border: 2px solid #fff;'>0.21.2</td>\n",
       "    <td style='text-align: right; background-color: #ccc; border: 2px solid #fff;'>seaborn</td>\n",
       "    <td style='text-align: left; border: 2px solid #fff;'>0.9.0</td>\n",
       "    <td style='text-align: right; background-color: #ccc; border: 2px solid #fff;'>numpy</td>\n",
       "    <td style='text-align: left; border: 2px solid #fff;'>1.16.4</td>\n",
       "  </tr>\n",
       "  <tr>\n",
       "    <td style='text-align: right; background-color: #ccc; border: 2px solid #fff;'>scipy</td>\n",
       "    <td style='text-align: left; border: 2px solid #fff;'>1.3.0</td>\n",
       "    <td style='text-align: right; background-color: #ccc; border: 2px solid #fff;'>IPython</td>\n",
       "    <td style='text-align: left; border: 2px solid #fff;'>7.6.1</td>\n",
       "    <td style='text-align: right; background-color: #ccc; border: 2px solid #fff;'>matplotlib</td>\n",
       "    <td style='text-align: left; border: 2px solid #fff;'>3.1.0</td>\n",
       "  </tr>\n",
       "  <tr>\n",
       "    <td style='text-align: right; background-color: #ccc; border: 2px solid #fff;'>scooby</td>\n",
       "    <td style='text-align: left; border: 2px solid #fff;'>0.5.6</td>\n",
       "    <td style= border: 2px solid #fff;'></td>\n",
       "    <td style= border: 2px solid #fff;'></td>\n",
       "    <td style= border: 2px solid #fff;'></td>\n",
       "    <td style= border: 2px solid #fff;'></td>\n",
       "  </tr>\n",
       "  <tr>\n",
       "     <td style='text-align: center; background-color: #ddd;border: 2px solid #fff;' colspan='6'>Intel(R) Math Kernel Library Version 2019.0.4 Product Build 20190411 for Intel(R) 64 architecture applications</td>\n",
       "  </tr>\n",
       "</table>"
      ],
      "text/plain": [
       "\n",
       "--------------------------------------------------------------------------------\n",
       "  Date: Tue Nov 17 10:15:54 2020 CST\n",
       "\n",
       "                OS : Darwin\n",
       "            CPU(s) : 12\n",
       "           Machine : x86_64\n",
       "      Architecture : 64bit\n",
       "               RAM : 16.0 GB\n",
       "       Environment : Jupyter\n",
       "\n",
       "  Python 3.7.3 (default, Mar 27 2019, 16:54:48)  [Clang 4.0.1\n",
       "  (tags/RELEASE_401/final)]\n",
       "\n",
       "           sklearn : 0.21.2\n",
       "           seaborn : 0.9.0\n",
       "             numpy : 1.16.4\n",
       "             scipy : 1.3.0\n",
       "           IPython : 7.6.1\n",
       "        matplotlib : 3.1.0\n",
       "            scooby : 0.5.6\n",
       "\n",
       "  Intel(R) Math Kernel Library Version 2019.0.4 Product Build 20190411 for\n",
       "  Intel(R) 64 architecture applications\n",
       "--------------------------------------------------------------------------------"
      ]
     },
     "execution_count": 2,
     "metadata": {},
     "output_type": "execute_result"
    }
   ],
   "source": [
    "scooby.Report(additional=[sklearn, sns])"
   ]
  },
  {
   "cell_type": "markdown",
   "metadata": {},
   "source": [
    "Read in the data with `pandas` and take a look at how it is structured"
   ]
  },
  {
   "cell_type": "code",
   "execution_count": 3,
   "metadata": {},
   "outputs": [
    {
     "name": "stdout",
     "output_type": "stream",
     "text": [
      "<class 'pandas.core.frame.DataFrame'>\n",
      "RangeIndex: 964 entries, 0 to 963\n",
      "Data columns (total 82 columns):\n",
      "Unnamed: 0                       964 non-null int64\n",
      "#WELL_NAME                       964 non-null object\n",
      "CURRENT_STATUS                   964 non-null object\n",
      "UWI                              964 non-null int64\n",
      "UWI_SIDETRACK                    964 non-null int64\n",
      "JOB_CATEGORY                     964 non-null object\n",
      "JOB_START_DATE                   964 non-null object\n",
      "JOB_END_DATE                     360 non-null object\n",
      "JOB_STATUS                       500 non-null object\n",
      "LIKE_KIND                        919 non-null object\n",
      "PROJECT_TYPE                     964 non-null object\n",
      "PHASE_START_DATE                 960 non-null object\n",
      "PHASE_END_DATE                   918 non-null object\n",
      "PHASE                            964 non-null object\n",
      "JOB_OP_CODE                      964 non-null object\n",
      "RIG_ID                           964 non-null object\n",
      "RIG_ACCEPT_DATE                  964 non-null datetime64[ns]\n",
      "RIG_RELEASE_DATE                 947 non-null datetime64[ns]\n",
      "RIG_TYPE                         964 non-null object\n",
      "CONTRACTOR                       964 non-null object\n",
      "REPORT_START_DATE_YEAR           964 non-null int64\n",
      "REPORT_START_DATE                964 non-null object\n",
      "REPORT_END_DATE                  964 non-null object\n",
      "STIMULATION_TREAT_DATE           964 non-null object\n",
      "STIMULATION_TREAT_TYPE           964 non-null object\n",
      "STIM_TREAT_COMPANY               957 non-null object\n",
      "STIM_TREAT_SUPERVISOR            469 non-null object\n",
      "DIVERSION_COMPANY                781 non-null object\n",
      "DIVERSION_METHOD                 741 non-null object\n",
      "DELIVERY_MODE                    961 non-null object\n",
      "FRAC_GRADIENT                    713 non-null float64\n",
      "BOTTOM_HOLE_PRESSURE_METHOD      356 non-null object\n",
      "BREAKDOWN_PRESSURE               760 non-null float64\n",
      "CLOSURE_PRESSURE_METHOD          236 non-null object\n",
      "HYDROSTATIC_PRESSURE             937 non-null float64\n",
      "TREAT_AVG_PRESSURE               963 non-null float64\n",
      "TREAT_MAX_PRESSURE               963 non-null float64\n",
      "TREAT_MIN_PRESSURE               503 non-null float64\n",
      "PROPPANT_DESIGNED                963 non-null float64\n",
      "PROPPANT_IN_FORMATION            964 non-null int64\n",
      "PROPPANT_IN_WELLBORE             752 non-null float64\n",
      "AVG_HYDRAULIC_POWER              962 non-null float64\n",
      "MAX_PUMP_POWER                   929 non-null float64\n",
      "MAX_PUMP_RATING                  809 non-null float64\n",
      "TREAT_AVG_RATE                   963 non-null float64\n",
      "TREAT_MAX_RATE                   963 non-null float64\n",
      "TREAT_MIN_RATE                   959 non-null float64\n",
      "POST_INSTANT_SHUT_IN_PRESSURE    681 non-null float64\n",
      "INITIAL_SHUT_IN_PRESSURE         919 non-null float64\n",
      "PRE_INSTANT_SHUT_IN_PRESSURE     701 non-null float64\n",
      "STIMULATION_RESULT               836 non-null object\n",
      "STIMULATION_RESULT_DETAIL        836 non-null object\n",
      "STG_NUMBER                       964 non-null int64\n",
      "STG_START_DATE                   964 non-null datetime64[ns]\n",
      "STG_END_DATE                     964 non-null datetime64[ns]\n",
      "STG_TOP_DEPTH                    964 non-null int64\n",
      "STG_BOTTOM_DEPTH                 964 non-null int64\n",
      "STG_ELEMENT_TOP_DEPTH            238 non-null float64\n",
      "STG_ELEMENT_BOTTOM_DEPTH         238 non-null float64\n",
      "STG_INITIAL_PUMPING_PRESSURE     503 non-null float64\n",
      "STG_FINAL_PUMPING_PRESSURE       963 non-null float64\n",
      "STG_BREAKDOWN_PRESSURE           760 non-null float64\n",
      "STG_CLEAN_VOLUME_PUMPED          964 non-null int64\n",
      "STG_SLURRY_VOLUME_PUMPED         964 non-null int64\n",
      "STG_VOLUME_RECOVERED             572 non-null float64\n",
      "STIMTREAT_ID                     964 non-null object\n",
      "FLUID_NAME                       950 non-null object\n",
      "PUMPSONLINENO                    470 non-null float64\n",
      "USERNUM1                         461 non-null float64\n",
      "USERNUM3                         470 non-null float64\n",
      "DURPUMP                          298 non-null float64\n",
      "SITE_SUPERVISOR                  494 non-null object\n",
      "TOP_DEPTH_TVD                    958 non-null float64\n",
      "BOTTOM_DEPTH_TVD                 964 non-null int64\n",
      "PROPOSED                         841 non-null float64\n",
      "Rig_Duration (days)              964 non-null int64\n",
      "Stg_Duration (hrs)               964 non-null int64\n",
      "Stage_Length (meters)            964 non-null int64\n",
      "Prod_Per_Stage                   964 non-null float64\n",
      "Errors_Per_Stage                 964 non-null float64\n",
      "AVG PRESSURE (PSI)               964 non-null float64\n",
      "AVG HHP                          964 non-null float64\n",
      "dtypes: datetime64[ns](4), float64(33), int64(14), object(31)\n",
      "memory usage: 617.6+ KB\n"
     ]
    }
   ],
   "source": [
    "data = pd.read_excel(\"RCOMPL_RIG_SCALED.xlsx\")  # read it in\n",
    "data.info()"
   ]
  },
  {
   "cell_type": "code",
   "execution_count": 4,
   "metadata": {},
   "outputs": [
    {
     "data": {
      "text/plain": [
       "<matplotlib.collections.PathCollection at 0x7ffab1988400>"
      ]
     },
     "execution_count": 4,
     "metadata": {},
     "output_type": "execute_result"
    },
    {
     "data": {
      "image/png": "[encoded data removed]",
      "text/plain": [
       "<Figure size 432x288 with 1 Axes>"
      ]
     },
     "metadata": {
      "needs_background": "light"
     },
     "output_type": "display_data"
    }
   ],
   "source": [
    "plt.scatter(data.Errors_Per_Stage, data.TOP_DEPTH_TVD, alpha=0.1)"
   ]
  },
  {
   "cell_type": "markdown",
   "metadata": {},
   "source": [
    "Looks good, but let's see if we can separate what looks like two different groups of data. What if we color it by depth?"
   ]
  },
  {
   "cell_type": "code",
   "execution_count": 5,
   "metadata": {},
   "outputs": [
    {
     "data": {
      "text/plain": [
       "<matplotlib.colorbar.Colorbar at 0x7ffab17b7518>"
      ]
     },
     "execution_count": 5,
     "metadata": {},
     "output_type": "execute_result"
    },
    {
     "data": {
      "image/png": "[encoded data removed]",
      "text/plain": [
       "<Figure size 432x288 with 2 Axes>"
      ]
     },
     "metadata": {
      "needs_background": "light"
     },
     "output_type": "display_data"
    }
   ],
   "source": [
    "plt.scatter(data.Errors_Per_Stage, data.STG_TOP_DEPTH, c=data.MAX_PUMP_POWER, cmap=\"viridis\", alpha=0.1)\n",
    "plt.colorbar()"
   ]
  },
  {
   "cell_type": "markdown",
   "metadata": {},
   "source": [
    "That looks like the shallow data samples have a different relationship than the deeper samples. We should investigate this further. But first let's go ahead and get rid of the qualitative `TOP` data"
   ]
  },
  {
   "cell_type": "code",
   "execution_count": 6,
   "metadata": {},
   "outputs": [
    {
     "data": {
      "text/plain": [
       "Unnamed: 0                       964\n",
       "UWI                              964\n",
       "UWI_SIDETRACK                    964\n",
       "REPORT_START_DATE_YEAR           964\n",
       "FRAC_GRADIENT                    964\n",
       "BREAKDOWN_PRESSURE               964\n",
       "HYDROSTATIC_PRESSURE             964\n",
       "TREAT_AVG_PRESSURE               964\n",
       "TREAT_MAX_PRESSURE               964\n",
       "TREAT_MIN_PRESSURE               964\n",
       "PROPPANT_DESIGNED                964\n",
       "PROPPANT_IN_FORMATION            964\n",
       "PROPPANT_IN_WELLBORE             964\n",
       "AVG_HYDRAULIC_POWER              964\n",
       "MAX_PUMP_POWER                   964\n",
       "MAX_PUMP_RATING                  964\n",
       "TREAT_AVG_RATE                   964\n",
       "TREAT_MAX_RATE                   964\n",
       "TREAT_MIN_RATE                   964\n",
       "POST_INSTANT_SHUT_IN_PRESSURE    964\n",
       "INITIAL_SHUT_IN_PRESSURE         964\n",
       "PRE_INSTANT_SHUT_IN_PRESSURE     964\n",
       "STG_NUMBER                       964\n",
       "STG_TOP_DEPTH                    964\n",
       "STG_BOTTOM_DEPTH                 964\n",
       "STG_ELEMENT_TOP_DEPTH            964\n",
       "STG_ELEMENT_BOTTOM_DEPTH         964\n",
       "STG_INITIAL_PUMPING_PRESSURE     964\n",
       "STG_FINAL_PUMPING_PRESSURE       964\n",
       "STG_BREAKDOWN_PRESSURE           964\n",
       "STG_CLEAN_VOLUME_PUMPED          964\n",
       "STG_SLURRY_VOLUME_PUMPED         964\n",
       "STG_VOLUME_RECOVERED             964\n",
       "PUMPSONLINENO                    964\n",
       "USERNUM1                         964\n",
       "USERNUM3                         964\n",
       "DURPUMP                          964\n",
       "TOP_DEPTH_TVD                    964\n",
       "BOTTOM_DEPTH_TVD                 964\n",
       "PROPOSED                         964\n",
       "Rig_Duration (days)              964\n",
       "Stg_Duration (hrs)               964\n",
       "Stage_Length (meters)            964\n",
       "Prod_Per_Stage                   964\n",
       "Errors_Per_Stage                 964\n",
       "AVG PRESSURE (PSI)               964\n",
       "AVG HHP                          964\n",
       "dtype: int64"
      ]
     },
     "execution_count": 6,
     "metadata": {},
     "output_type": "execute_result"
    }
   ],
   "source": [
    "data = data.drop( columns = 'STG_START_DATE')\n",
    "data = data.drop( columns = 'STG_END_DATE')\n",
    "data = data.drop( columns = 'RIG_ACCEPT_DATE')\n",
    "data = data.drop( columns = 'RIG_RELEASE_DATE')\n",
    "\n",
    "\n",
    "\n",
    "clean_data = data[data.T[data.dtypes!=np.object].index]\n",
    "clean_data = clean_data.fillna(0)\n",
    "clean_data.count()"
   ]
  },
  {
   "cell_type": "markdown",
   "metadata": {},
   "source": [
    "Next we want to scale our features, and assign our two features we are going to use in our clustering"
   ]
  },
  {
   "cell_type": "code",
   "execution_count": 7,
   "metadata": {},
   "outputs": [],
   "source": [
    "from sklearn.preprocessing import Normalizer\n",
    "scaler = Normalizer()\n",
    "scaled_data = pd.DataFrame(\n",
    "    scaler.fit_transform(clean_data.values),\n",
    "    columns=clean_data.columns,\n",
    "    index=clean_data.index,\n",
    ")\n",
    "X = scaled_data[['Errors_Per_Stage','TOP_DEPTH_TVD']]"
   ]
  },
  {
   "cell_type": "markdown",
   "metadata": {},
   "source": [
    "We will start with `KMeans` clustering and see how it does. We just need to import it and fit it ot our dataset"
   ]
  },
  {
   "cell_type": "code",
   "execution_count": 8,
   "metadata": {},
   "outputs": [],
   "source": [
    "from sklearn.cluster import SpectralClustering"
   ]
  },
  {
   "cell_type": "code",
   "execution_count": 9,
   "metadata": {},
   "outputs": [
    {
     "data": {
      "text/plain": [
       "SpectralClustering(affinity='rbf', assign_labels='kmeans', coef0=1, degree=3,\n",
       "                   eigen_solver=None, eigen_tol=0.0, gamma=1.0,\n",
       "                   kernel_params=None, n_clusters=8, n_init=10, n_jobs=None,\n",
       "                   n_neighbors=10, random_state=None)"
      ]
     },
     "execution_count": 9,
     "metadata": {},
     "output_type": "execute_result"
    }
   ],
   "source": [
    "cluster = SpectralClustering()\n",
    "cluster.fit(X)"
   ]
  },
  {
   "cell_type": "markdown",
   "metadata": {},
   "source": [
    "After we fit our `KMeans` algorithm, we have labels for each point in the dataset. We want to add this to our dataframe "
   ]
  },
  {
   "cell_type": "code",
   "execution_count": 10,
   "metadata": {},
   "outputs": [],
   "source": [
    "X = X.assign(Label=cluster.labels_)"
   ]
  },
  {
   "cell_type": "code",
   "execution_count": 11,
   "metadata": {},
   "outputs": [
    {
     "data": {
      "text/html": [
       "<div>\n",
       "<style scoped>\n",
       "    .dataframe tbody tr th:only-of-type {\n",
       "        vertical-align: middle;\n",
       "    }\n",
       "\n",
       "    .dataframe tbody tr th {\n",
       "        vertical-align: top;\n",
       "    }\n",
       "\n",
       "    .dataframe thead th {\n",
       "        text-align: right;\n",
       "    }\n",
       "</style>\n",
       "<table border=\"1\" class=\"dataframe\">\n",
       "  <thead>\n",
       "    <tr style=\"text-align: right;\">\n",
       "      <th></th>\n",
       "      <th>Errors_Per_Stage</th>\n",
       "      <th>TOP_DEPTH_TVD</th>\n",
       "      <th>Label</th>\n",
       "    </tr>\n",
       "  </thead>\n",
       "  <tbody>\n",
       "    <tr>\n",
       "      <th>count</th>\n",
       "      <td>9.640000e+02</td>\n",
       "      <td>9.640000e+02</td>\n",
       "      <td>964.000000</td>\n",
       "    </tr>\n",
       "    <tr>\n",
       "      <th>mean</th>\n",
       "      <td>2.096339e-09</td>\n",
       "      <td>6.144818e-06</td>\n",
       "      <td>4.772822</td>\n",
       "    </tr>\n",
       "    <tr>\n",
       "      <th>std</th>\n",
       "      <td>2.979519e-09</td>\n",
       "      <td>5.549768e-07</td>\n",
       "      <td>1.254379</td>\n",
       "    </tr>\n",
       "    <tr>\n",
       "      <th>min</th>\n",
       "      <td>-4.952946e-10</td>\n",
       "      <td>0.000000e+00</td>\n",
       "      <td>0.000000</td>\n",
       "    </tr>\n",
       "    <tr>\n",
       "      <th>25%</th>\n",
       "      <td>1.337295e-09</td>\n",
       "      <td>6.044449e-06</td>\n",
       "      <td>5.000000</td>\n",
       "    </tr>\n",
       "    <tr>\n",
       "      <th>50%</th>\n",
       "      <td>1.926145e-09</td>\n",
       "      <td>6.196630e-06</td>\n",
       "      <td>5.000000</td>\n",
       "    </tr>\n",
       "    <tr>\n",
       "      <th>75%</th>\n",
       "      <td>3.111069e-09</td>\n",
       "      <td>6.372954e-06</td>\n",
       "      <td>5.000000</td>\n",
       "    </tr>\n",
       "    <tr>\n",
       "      <th>max</th>\n",
       "      <td>8.420008e-08</td>\n",
       "      <td>6.748881e-06</td>\n",
       "      <td>7.000000</td>\n",
       "    </tr>\n",
       "  </tbody>\n",
       "</table>\n",
       "</div>"
      ],
      "text/plain": [
       "       Errors_Per_Stage  TOP_DEPTH_TVD       Label\n",
       "count      9.640000e+02   9.640000e+02  964.000000\n",
       "mean       2.096339e-09   6.144818e-06    4.772822\n",
       "std        2.979519e-09   5.549768e-07    1.254379\n",
       "min       -4.952946e-10   0.000000e+00    0.000000\n",
       "25%        1.337295e-09   6.044449e-06    5.000000\n",
       "50%        1.926145e-09   6.196630e-06    5.000000\n",
       "75%        3.111069e-09   6.372954e-06    5.000000\n",
       "max        8.420008e-08   6.748881e-06    7.000000"
      ]
     },
     "execution_count": 11,
     "metadata": {},
     "output_type": "execute_result"
    }
   ],
   "source": [
    "X.describe()"
   ]
  },
  {
   "cell_type": "markdown",
   "metadata": {},
   "source": [
    "Let's look at the cluster labels and see how `KMeans` did with just two features."
   ]
  },
  {
   "cell_type": "code",
   "execution_count": 12,
   "metadata": {},
   "outputs": [
    {
     "data": {
      "text/html": [
       "<div>\n",
       "<style scoped>\n",
       "    .dataframe tbody tr th:only-of-type {\n",
       "        vertical-align: middle;\n",
       "    }\n",
       "\n",
       "    .dataframe tbody tr th {\n",
       "        vertical-align: top;\n",
       "    }\n",
       "\n",
       "    .dataframe thead th {\n",
       "        text-align: right;\n",
       "    }\n",
       "</style>\n",
       "<table border=\"1\" class=\"dataframe\">\n",
       "  <thead>\n",
       "    <tr style=\"text-align: right;\">\n",
       "      <th></th>\n",
       "      <th>Errors_Per_Stage</th>\n",
       "      <th>TOP_DEPTH_TVD</th>\n",
       "      <th>Label</th>\n",
       "    </tr>\n",
       "  </thead>\n",
       "  <tbody>\n",
       "    <tr>\n",
       "      <th>count</th>\n",
       "      <td>964.000000</td>\n",
       "      <td>964.000000</td>\n",
       "      <td>964.000000</td>\n",
       "    </tr>\n",
       "    <tr>\n",
       "      <th>mean</th>\n",
       "      <td>0.002096</td>\n",
       "      <td>6.144818</td>\n",
       "      <td>4.772822</td>\n",
       "    </tr>\n",
       "    <tr>\n",
       "      <th>std</th>\n",
       "      <td>0.002980</td>\n",
       "      <td>0.554977</td>\n",
       "      <td>1.254379</td>\n",
       "    </tr>\n",
       "    <tr>\n",
       "      <th>min</th>\n",
       "      <td>-0.000495</td>\n",
       "      <td>0.000000</td>\n",
       "      <td>0.000000</td>\n",
       "    </tr>\n",
       "    <tr>\n",
       "      <th>25%</th>\n",
       "      <td>0.001337</td>\n",
       "      <td>6.044449</td>\n",
       "      <td>5.000000</td>\n",
       "    </tr>\n",
       "    <tr>\n",
       "      <th>50%</th>\n",
       "      <td>0.001926</td>\n",
       "      <td>6.196630</td>\n",
       "      <td>5.000000</td>\n",
       "    </tr>\n",
       "    <tr>\n",
       "      <th>75%</th>\n",
       "      <td>0.003111</td>\n",
       "      <td>6.372954</td>\n",
       "      <td>5.000000</td>\n",
       "    </tr>\n",
       "    <tr>\n",
       "      <th>max</th>\n",
       "      <td>0.084200</td>\n",
       "      <td>6.748881</td>\n",
       "      <td>7.000000</td>\n",
       "    </tr>\n",
       "  </tbody>\n",
       "</table>\n",
       "</div>"
      ],
      "text/plain": [
       "       Errors_Per_Stage  TOP_DEPTH_TVD       Label\n",
       "count        964.000000     964.000000  964.000000\n",
       "mean           0.002096       6.144818    4.772822\n",
       "std            0.002980       0.554977    1.254379\n",
       "min           -0.000495       0.000000    0.000000\n",
       "25%            0.001337       6.044449    5.000000\n",
       "50%            0.001926       6.196630    5.000000\n",
       "75%            0.003111       6.372954    5.000000\n",
       "max            0.084200       6.748881    7.000000"
      ]
     },
     "execution_count": 12,
     "metadata": {},
     "output_type": "execute_result"
    }
   ],
   "source": [
    "X.Errors_Per_Stage = (1e6)*X.Errors_Per_Stage\n",
    "X.TOP_DEPTH_TVD = (1e6)*X.TOP_DEPTH_TVD\n",
    "X.describe()"
   ]
  },
  {
   "cell_type": "code",
   "execution_count": 13,
   "metadata": {},
   "outputs": [
    {
     "data": {
      "text/plain": [
       "(-0.029529, 0.07)"
      ]
     },
     "execution_count": 13,
     "metadata": {},
     "output_type": "execute_result"
    },
    {
     "data": {
      "image/png": "[encoded data removed]",
      "text/plain": [
       "<Figure size 432x288 with 1 Axes>"
      ]
     },
     "metadata": {
      "needs_background": "light"
     },
     "output_type": "display_data"
    }
   ],
   "source": [
    "plt.scatter(\n",
    "    X.Errors_Per_Stage,\n",
    "    X.TOP_DEPTH_TVD,\n",
    "    c=X.Label,\n",
    "    cmap=\"viridis\",\n",
    "    alpha=0.1,\n",
    ")\n",
    "plt.ylim(5,7)\n",
    "plt.xlim(-0.029529,.07)"
   ]
  },
  {
   "cell_type": "markdown",
   "metadata": {},
   "source": [
    "That seems to be a let down with how it partitioned our our data in two dimensions. What if we try `DBSCAN` clustering?"
   ]
  },
  {
   "cell_type": "code",
   "execution_count": 14,
   "metadata": {},
   "outputs": [],
   "source": [
    "from sklearn.cluster import DBSCAN"
   ]
  },
  {
   "cell_type": "code",
   "execution_count": 15,
   "metadata": {},
   "outputs": [
    {
     "data": {
      "text/plain": [
       "DBSCAN(algorithm='auto', eps=0.1, leaf_size=30, metric='euclidean',\n",
       "       metric_params=None, min_samples=15, n_jobs=None, p=None)"
      ]
     },
     "execution_count": 15,
     "metadata": {},
     "output_type": "execute_result"
    }
   ],
   "source": [
    "db = DBSCAN(eps=0.1, algorithm=\"auto\", min_samples=15)\n",
    "db.fit(X)"
   ]
  },
  {
   "cell_type": "code",
   "execution_count": 16,
   "metadata": {},
   "outputs": [
    {
     "data": {
      "text/plain": [
       "(-0.029529, 0.07)"
      ]
     },
     "execution_count": 16,
     "metadata": {},
     "output_type": "execute_result"
    },
    {
     "data": {
      "image/png": "[encoded data removed]",
      "text/plain": [
       "<Figure size 432x288 with 1 Axes>"
      ]
     },
     "metadata": {
      "needs_background": "light"
     },
     "output_type": "display_data"
    }
   ],
   "source": [
    "X = X.assign(DBLabels=db.labels_)\n",
    "plt.scatter(\n",
    "    X.Errors_Per_Stage,\n",
    "    X.TOP_DEPTH_TVD,\n",
    "    c=X.DBLabels,\n",
    "    cmap=\"viridis\",\n",
    "    alpha=0.1,\n",
    ")\n",
    "plt.ylim(5,7)\n",
    "plt.xlim(-0.029529,.07)"
   ]
  },
  {
   "cell_type": "markdown",
   "metadata": {},
   "source": [
    "Still disappointing to say the least. Let's get rid of our labels and bring in all the different features we have available in the dataset"
   ]
  },
  {
   "cell_type": "code",
   "execution_count": 17,
   "metadata": {},
   "outputs": [],
   "source": [
    "X = scaled_data"
   ]
  },
  {
   "cell_type": "code",
   "execution_count": 18,
   "metadata": {},
   "outputs": [
    {
     "data": {
      "text/html": [
       "<div>\n",
       "<style scoped>\n",
       "    .dataframe tbody tr th:only-of-type {\n",
       "        vertical-align: middle;\n",
       "    }\n",
       "\n",
       "    .dataframe tbody tr th {\n",
       "        vertical-align: top;\n",
       "    }\n",
       "\n",
       "    .dataframe thead th {\n",
       "        text-align: right;\n",
       "    }\n",
       "</style>\n",
       "<table border=\"1\" class=\"dataframe\">\n",
       "  <thead>\n",
       "    <tr style=\"text-align: right;\">\n",
       "      <th></th>\n",
       "      <th>Unnamed: 0</th>\n",
       "      <th>UWI</th>\n",
       "      <th>UWI_SIDETRACK</th>\n",
       "      <th>REPORT_START_DATE_YEAR</th>\n",
       "      <th>FRAC_GRADIENT</th>\n",
       "      <th>BREAKDOWN_PRESSURE</th>\n",
       "      <th>HYDROSTATIC_PRESSURE</th>\n",
       "      <th>TREAT_AVG_PRESSURE</th>\n",
       "      <th>TREAT_MAX_PRESSURE</th>\n",
       "      <th>TREAT_MIN_PRESSURE</th>\n",
       "      <th>...</th>\n",
       "      <th>TOP_DEPTH_TVD</th>\n",
       "      <th>BOTTOM_DEPTH_TVD</th>\n",
       "      <th>PROPOSED</th>\n",
       "      <th>Rig_Duration (days)</th>\n",
       "      <th>Stg_Duration (hrs)</th>\n",
       "      <th>Stage_Length (meters)</th>\n",
       "      <th>Prod_Per_Stage</th>\n",
       "      <th>Errors_Per_Stage</th>\n",
       "      <th>AVG PRESSURE (PSI)</th>\n",
       "      <th>AVG HHP</th>\n",
       "    </tr>\n",
       "  </thead>\n",
       "  <tbody>\n",
       "    <tr>\n",
       "      <th>0</th>\n",
       "      <td>0.000000e+00</td>\n",
       "      <td>1.0</td>\n",
       "      <td>0.0</td>\n",
       "      <td>9.995043e-07</td>\n",
       "      <td>0.000000e+00</td>\n",
       "      <td>0.000004</td>\n",
       "      <td>0.000003</td>\n",
       "      <td>0.000004</td>\n",
       "      <td>0.000005</td>\n",
       "      <td>2.773649e-08</td>\n",
       "      <td>...</td>\n",
       "      <td>0.000006</td>\n",
       "      <td>0.000006</td>\n",
       "      <td>0.0</td>\n",
       "      <td>2.971767e-09</td>\n",
       "      <td>9.905890e-10</td>\n",
       "      <td>2.970281e-06</td>\n",
       "      <td>3.373341e-06</td>\n",
       "      <td>1.265753e-09</td>\n",
       "      <td>0.000004</td>\n",
       "      <td>0.000007</td>\n",
       "    </tr>\n",
       "    <tr>\n",
       "      <th>1</th>\n",
       "      <td>4.952946e-10</td>\n",
       "      <td>1.0</td>\n",
       "      <td>0.0</td>\n",
       "      <td>9.999998e-07</td>\n",
       "      <td>4.952946e-10</td>\n",
       "      <td>0.000003</td>\n",
       "      <td>0.000003</td>\n",
       "      <td>0.000005</td>\n",
       "      <td>0.000005</td>\n",
       "      <td>0.000000e+00</td>\n",
       "      <td>...</td>\n",
       "      <td>0.000006</td>\n",
       "      <td>0.000006</td>\n",
       "      <td>0.0</td>\n",
       "      <td>4.952946e-09</td>\n",
       "      <td>4.952946e-10</td>\n",
       "      <td>7.280831e-08</td>\n",
       "      <td>7.067671e-07</td>\n",
       "      <td>2.540678e-09</td>\n",
       "      <td>0.000005</td>\n",
       "      <td>0.000010</td>\n",
       "    </tr>\n",
       "    <tr>\n",
       "      <th>2</th>\n",
       "      <td>9.905892e-10</td>\n",
       "      <td>1.0</td>\n",
       "      <td>0.0</td>\n",
       "      <td>9.999998e-07</td>\n",
       "      <td>4.952946e-10</td>\n",
       "      <td>0.000003</td>\n",
       "      <td>0.000003</td>\n",
       "      <td>0.000005</td>\n",
       "      <td>0.000005</td>\n",
       "      <td>0.000000e+00</td>\n",
       "      <td>...</td>\n",
       "      <td>0.000006</td>\n",
       "      <td>0.000006</td>\n",
       "      <td>0.0</td>\n",
       "      <td>4.952946e-09</td>\n",
       "      <td>4.952946e-10</td>\n",
       "      <td>7.280831e-08</td>\n",
       "      <td>7.067671e-07</td>\n",
       "      <td>2.540678e-09</td>\n",
       "      <td>0.000005</td>\n",
       "      <td>0.000009</td>\n",
       "    </tr>\n",
       "    <tr>\n",
       "      <th>3</th>\n",
       "      <td>1.485884e-09</td>\n",
       "      <td>1.0</td>\n",
       "      <td>0.0</td>\n",
       "      <td>9.995043e-07</td>\n",
       "      <td>0.000000e+00</td>\n",
       "      <td>0.000004</td>\n",
       "      <td>0.000003</td>\n",
       "      <td>0.000004</td>\n",
       "      <td>0.000004</td>\n",
       "      <td>3.796928e-06</td>\n",
       "      <td>...</td>\n",
       "      <td>0.000006</td>\n",
       "      <td>0.000006</td>\n",
       "      <td>0.0</td>\n",
       "      <td>2.971767e-09</td>\n",
       "      <td>9.905890e-10</td>\n",
       "      <td>2.970281e-06</td>\n",
       "      <td>3.373341e-06</td>\n",
       "      <td>1.265753e-09</td>\n",
       "      <td>0.000004</td>\n",
       "      <td>0.000007</td>\n",
       "    </tr>\n",
       "    <tr>\n",
       "      <th>4</th>\n",
       "      <td>1.981178e-09</td>\n",
       "      <td>1.0</td>\n",
       "      <td>0.0</td>\n",
       "      <td>9.999996e-07</td>\n",
       "      <td>4.952945e-10</td>\n",
       "      <td>0.000003</td>\n",
       "      <td>0.000003</td>\n",
       "      <td>0.000005</td>\n",
       "      <td>0.000005</td>\n",
       "      <td>0.000000e+00</td>\n",
       "      <td>...</td>\n",
       "      <td>0.000006</td>\n",
       "      <td>0.000006</td>\n",
       "      <td>0.0</td>\n",
       "      <td>4.952945e-09</td>\n",
       "      <td>9.905890e-10</td>\n",
       "      <td>7.379888e-08</td>\n",
       "      <td>3.661811e-07</td>\n",
       "      <td>3.665179e-09</td>\n",
       "      <td>0.000005</td>\n",
       "      <td>0.000008</td>\n",
       "    </tr>\n",
       "  </tbody>\n",
       "</table>\n",
       "<p>5 rows × 47 columns</p>\n",
       "</div>"
      ],
      "text/plain": [
       "     Unnamed: 0  UWI  UWI_SIDETRACK  REPORT_START_DATE_YEAR  FRAC_GRADIENT  \\\n",
       "0  0.000000e+00  1.0            0.0            9.995043e-07   0.000000e+00   \n",
       "1  4.952946e-10  1.0            0.0            9.999998e-07   4.952946e-10   \n",
       "2  9.905892e-10  1.0            0.0            9.999998e-07   4.952946e-10   \n",
       "3  1.485884e-09  1.0            0.0            9.995043e-07   0.000000e+00   \n",
       "4  1.981178e-09  1.0            0.0            9.999996e-07   4.952945e-10   \n",
       "\n",
       "   BREAKDOWN_PRESSURE  HYDROSTATIC_PRESSURE  TREAT_AVG_PRESSURE  \\\n",
       "0            0.000004              0.000003            0.000004   \n",
       "1            0.000003              0.000003            0.000005   \n",
       "2            0.000003              0.000003            0.000005   \n",
       "3            0.000004              0.000003            0.000004   \n",
       "4            0.000003              0.000003            0.000005   \n",
       "\n",
       "   TREAT_MAX_PRESSURE  TREAT_MIN_PRESSURE  ...  TOP_DEPTH_TVD  \\\n",
       "0            0.000005        2.773649e-08  ...       0.000006   \n",
       "1            0.000005        0.000000e+00  ...       0.000006   \n",
       "2            0.000005        0.000000e+00  ...       0.000006   \n",
       "3            0.000004        3.796928e-06  ...       0.000006   \n",
       "4            0.000005        0.000000e+00  ...       0.000006   \n",
       "\n",
       "   BOTTOM_DEPTH_TVD  PROPOSED  Rig_Duration (days)  Stg_Duration (hrs)  \\\n",
       "0          0.000006       0.0         2.971767e-09        9.905890e-10   \n",
       "1          0.000006       0.0         4.952946e-09        4.952946e-10   \n",
       "2          0.000006       0.0         4.952946e-09        4.952946e-10   \n",
       "3          0.000006       0.0         2.971767e-09        9.905890e-10   \n",
       "4          0.000006       0.0         4.952945e-09        9.905890e-10   \n",
       "\n",
       "   Stage_Length (meters)  Prod_Per_Stage  Errors_Per_Stage  \\\n",
       "0           2.970281e-06    3.373341e-06      1.265753e-09   \n",
       "1           7.280831e-08    7.067671e-07      2.540678e-09   \n",
       "2           7.280831e-08    7.067671e-07      2.540678e-09   \n",
       "3           2.970281e-06    3.373341e-06      1.265753e-09   \n",
       "4           7.379888e-08    3.661811e-07      3.665179e-09   \n",
       "\n",
       "   AVG PRESSURE (PSI)   AVG HHP  \n",
       "0            0.000004  0.000007  \n",
       "1            0.000005  0.000010  \n",
       "2            0.000005  0.000009  \n",
       "3            0.000004  0.000007  \n",
       "4            0.000005  0.000008  \n",
       "\n",
       "[5 rows x 47 columns]"
      ]
     },
     "execution_count": 18,
     "metadata": {},
     "output_type": "execute_result"
    }
   ],
   "source": [
    "X.head()"
   ]
  },
  {
   "cell_type": "markdown",
   "metadata": {},
   "source": [
    "This seems to be a bit more reasonable. We have some overlapping clusters, and we see a couple of clusters with different slopes like we noticed earlier on. "
   ]
  },
  {
   "cell_type": "markdown",
   "metadata": {},
   "source": [
    "What if we try this with `DBSCAN`, how do you think it will do?"
   ]
  },
  {
   "cell_type": "code",
   "execution_count": null,
   "metadata": {},
   "outputs": [],
   "source": []
  }
 ],
 "metadata": {
  "kernelspec": {
   "display_name": "Python 3",
   "language": "python",
   "name": "python3"
  },
  "language_info": {
   "codemirror_mode": {
    "name": "ipython",
    "version": 3
   },
   "file_extension": ".py",
   "mimetype": "text/x-python",
   "name": "python",
   "nbconvert_exporter": "python",
   "pygments_lexer": "ipython3",
   "version": "3.7.3"
  }
 },
 "nbformat": 4,
 "nbformat_minor": 4
}
