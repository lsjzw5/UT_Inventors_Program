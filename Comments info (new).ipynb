{
 "cells": [
  {
   "cell_type": "code",
   "execution_count": 1,
   "metadata": {},
   "outputs": [],
   "source": [
    "import pandas as pd\n",
    "import numpy as np\n",
    "import re\n",
    "import matplotlib.pyplot as plt\n",
    "import seaborn"
   ]
  },
  {
   "cell_type": "code",
   "execution_count": 2,
   "metadata": {},
   "outputs": [],
   "source": [
    "## select features from a dataframe's comment column\n",
    "## used 'AVG PRESSURE' and 'AVG HHP'\n",
    "\n",
    "def parse_info(df,dropped_col):\n",
    "    avg_pressure = []\n",
    "    avg_hhp = []\n",
    "    df = df.fillna('0')\n",
    "    for i in range(len(df)):\n",
    "        info = df.iloc[i,1]\n",
    "        if info.find('AVG. HHP') == -1:\n",
    "            avg_pressure.append(info[info.find('AVG PRESSURE'):info.find('AVG HHP')])\n",
    "            avg_hhp.append(info[info.find('AVG HHP'):info.find('MAX')])\n",
    "        else:\n",
    "            avg_pressure.append(info[info.find('AVG PRESSURE'):info.find('AVG. HHP')])\n",
    "            avg_hhp.append(info[info.find('AVG. HHP'):info.find('MAX')])\n",
    "    \n",
    "    df['AVG PRESSURE (PSI)'] = avg_pressure\n",
    "    df['AVG HHP'] = avg_hhp\n",
    "\n",
    "    df['AVG PRESSURE (PSI)'] = df['AVG PRESSURE (PSI)'].str.replace(',','')\n",
    "    df['AVG PRESSURE (PSI)'] = df['AVG PRESSURE (PSI)'].str.extract('(\\d+)',expand=False)\n",
    "    df['AVG PRESSURE (PSI)'] = df['AVG PRESSURE (PSI)'].apply(lambda x: float(x))\n",
    "\n",
    "    df['AVG HHP'] = df['AVG HHP'].str.replace(',','')\n",
    "    df['AVG HHP'] = df['AVG HHP'].str.extract('(\\d+)',expand=False)\n",
    "    df['AVG HHP'] = df['AVG HHP'].apply(lambda x: float(x))\n",
    "    \n",
    "    return df.drop(columns = dropped_col)"
   ]
  },
  {
   "cell_type": "code",
   "execution_count": 3,
   "metadata": {},
   "outputs": [],
   "source": [
    "## imputation\n",
    "\n",
    "def imputation(df):\n",
    "    temp = df[['AVG PRESSURE (PSI)', 'AVG HHP']]\n",
    "    temp = temp.apply(lambda col: col.fillna(col.mean()),axis=0)\n",
    "    \n",
    "    rig = df['RIG_ID'].to_frame()\n",
    "    \n",
    "    return pd.concat([rig,temp],axis=1)"
   ]
  },
  {
   "cell_type": "markdown",
   "metadata": {},
   "source": [
    "# Stim_stage file"
   ]
  },
  {
   "cell_type": "code",
   "execution_count": 4,
   "metadata": {},
   "outputs": [],
   "source": [
    "df_stim = pd.read_excel('gcbu_dnc_stim_stage.xlsx')\n",
    "df1 = df_stim[['STIM_TREAT_REMARK','STG_REMARK','RIG_ID']]\n",
    "df1_stim_treat = df1[['RIG_ID','STIM_TREAT_REMARK']]\n",
    "df1_stg = df1[['RIG_ID','STG_REMARK']]"
   ]
  },
  {
   "cell_type": "markdown",
   "metadata": {},
   "source": [
    "### This part analyzes the STIM_TREAT_REMARK comments for stim_stage file"
   ]
  },
  {
   "cell_type": "code",
   "execution_count": 5,
   "metadata": {},
   "outputs": [
    {
     "data": {
      "text/plain": [
       "17721"
      ]
     },
     "execution_count": 5,
     "metadata": {},
     "output_type": "execute_result"
    }
   ],
   "source": [
    "df1_stim_treat.shape[0]"
   ]
  },
  {
   "cell_type": "code",
   "execution_count": 6,
   "metadata": {},
   "outputs": [
    {
     "data": {
      "text/html": [
       "<div>\n",
       "<style scoped>\n",
       "    .dataframe tbody tr th:only-of-type {\n",
       "        vertical-align: middle;\n",
       "    }\n",
       "\n",
       "    .dataframe tbody tr th {\n",
       "        vertical-align: top;\n",
       "    }\n",
       "\n",
       "    .dataframe thead th {\n",
       "        text-align: right;\n",
       "    }\n",
       "</style>\n",
       "<table border=\"1\" class=\"dataframe\">\n",
       "  <thead>\n",
       "    <tr style=\"text-align: right;\">\n",
       "      <th></th>\n",
       "      <th>RIG_ID</th>\n",
       "      <th>AVG PRESSURE (PSI)</th>\n",
       "      <th>AVG HHP</th>\n",
       "    </tr>\n",
       "  </thead>\n",
       "  <tbody>\n",
       "    <tr>\n",
       "      <th>0</th>\n",
       "      <td>RIG_ID - 2019000021</td>\n",
       "      <td>9919.0</td>\n",
       "      <td>16793.0</td>\n",
       "    </tr>\n",
       "    <tr>\n",
       "      <th>1</th>\n",
       "      <td>RIG_ID - 2019000082</td>\n",
       "      <td>10027.0</td>\n",
       "      <td>22069.0</td>\n",
       "    </tr>\n",
       "    <tr>\n",
       "      <th>2</th>\n",
       "      <td>RIG_ID - 2019000082</td>\n",
       "      <td>9358.0</td>\n",
       "      <td>12780.0</td>\n",
       "    </tr>\n",
       "    <tr>\n",
       "      <th>3</th>\n",
       "      <td>RIG_ID - 2019000098</td>\n",
       "      <td>7280.0</td>\n",
       "      <td>8618.0</td>\n",
       "    </tr>\n",
       "    <tr>\n",
       "      <th>4</th>\n",
       "      <td>RIG_ID - 2019000021</td>\n",
       "      <td>8298.0</td>\n",
       "      <td>13950.0</td>\n",
       "    </tr>\n",
       "    <tr>\n",
       "      <th>...</th>\n",
       "      <td>...</td>\n",
       "      <td>...</td>\n",
       "      <td>...</td>\n",
       "    </tr>\n",
       "    <tr>\n",
       "      <th>17716</th>\n",
       "      <td>RIG_ID - 2019000021</td>\n",
       "      <td>11086.0</td>\n",
       "      <td>22305.0</td>\n",
       "    </tr>\n",
       "    <tr>\n",
       "      <th>17717</th>\n",
       "      <td>RIG_ID - 2019000082</td>\n",
       "      <td>9695.0</td>\n",
       "      <td>18958.0</td>\n",
       "    </tr>\n",
       "    <tr>\n",
       "      <th>17718</th>\n",
       "      <td>RIG_ID - 2019000021</td>\n",
       "      <td>10778.0</td>\n",
       "      <td>16239.0</td>\n",
       "    </tr>\n",
       "    <tr>\n",
       "      <th>17719</th>\n",
       "      <td>RIG_ID - 2019000082</td>\n",
       "      <td>10098.0</td>\n",
       "      <td>18315.0</td>\n",
       "    </tr>\n",
       "    <tr>\n",
       "      <th>17720</th>\n",
       "      <td>RIG_ID - 2019000082</td>\n",
       "      <td>9758.0</td>\n",
       "      <td>17574.0</td>\n",
       "    </tr>\n",
       "  </tbody>\n",
       "</table>\n",
       "<p>17721 rows × 3 columns</p>\n",
       "</div>"
      ],
      "text/plain": [
       "                    RIG_ID  AVG PRESSURE (PSI)  AVG HHP\n",
       "0      RIG_ID - 2019000021              9919.0  16793.0\n",
       "1      RIG_ID - 2019000082             10027.0  22069.0\n",
       "2      RIG_ID - 2019000082              9358.0  12780.0\n",
       "3      RIG_ID - 2019000098              7280.0   8618.0\n",
       "4      RIG_ID - 2019000021              8298.0  13950.0\n",
       "...                    ...                 ...      ...\n",
       "17716  RIG_ID - 2019000021             11086.0  22305.0\n",
       "17717  RIG_ID - 2019000082              9695.0  18958.0\n",
       "17718  RIG_ID - 2019000021             10778.0  16239.0\n",
       "17719  RIG_ID - 2019000082             10098.0  18315.0\n",
       "17720  RIG_ID - 2019000082              9758.0  17574.0\n",
       "\n",
       "[17721 rows x 3 columns]"
      ]
     },
     "execution_count": 6,
     "metadata": {},
     "output_type": "execute_result"
    }
   ],
   "source": [
    "## selected comment contents\n",
    "df1_stim_treat = parse_info(df1_stim_treat,'STIM_TREAT_REMARK')\n",
    "df1_stim_treat = imputation(df1_stim_treat)\n",
    "df1_stim_treat"
   ]
  },
  {
   "cell_type": "code",
   "execution_count": 7,
   "metadata": {},
   "outputs": [
    {
     "data": {
      "image/png": "[encoded data removed]",
      "text/plain": [
       "<Figure size 360x360 with 6 Axes>"
      ]
     },
     "metadata": {
      "needs_background": "light"
     },
     "output_type": "display_data"
    }
   ],
   "source": [
    "seaborn.pairplot(df1_stim_treat)\n",
    "plt.show()"
   ]
  },
  {
   "cell_type": "code",
   "execution_count": 8,
   "metadata": {},
   "outputs": [
    {
     "name": "stdout",
     "output_type": "stream",
     "text": [
      "Analysis for stim_stage file, STIM_TREAT_REMARK column: \n",
      "\n"
     ]
    },
    {
     "data": {
      "text/html": [
       "<div>\n",
       "<style scoped>\n",
       "    .dataframe tbody tr th:only-of-type {\n",
       "        vertical-align: middle;\n",
       "    }\n",
       "\n",
       "    .dataframe tbody tr th {\n",
       "        vertical-align: top;\n",
       "    }\n",
       "\n",
       "    .dataframe thead th {\n",
       "        text-align: right;\n",
       "    }\n",
       "</style>\n",
       "<table border=\"1\" class=\"dataframe\">\n",
       "  <thead>\n",
       "    <tr style=\"text-align: right;\">\n",
       "      <th></th>\n",
       "      <th>AVG PRESSURE (PSI)</th>\n",
       "      <th>AVG HHP</th>\n",
       "    </tr>\n",
       "  </thead>\n",
       "  <tbody>\n",
       "    <tr>\n",
       "      <th>count</th>\n",
       "      <td>17721.000000</td>\n",
       "      <td>17721.000000</td>\n",
       "    </tr>\n",
       "    <tr>\n",
       "      <th>mean</th>\n",
       "      <td>10064.931983</td>\n",
       "      <td>19313.955441</td>\n",
       "    </tr>\n",
       "    <tr>\n",
       "      <th>std</th>\n",
       "      <td>2593.123675</td>\n",
       "      <td>3809.480543</td>\n",
       "    </tr>\n",
       "    <tr>\n",
       "      <th>min</th>\n",
       "      <td>8.000000</td>\n",
       "      <td>0.000000</td>\n",
       "    </tr>\n",
       "    <tr>\n",
       "      <th>25%</th>\n",
       "      <td>9721.000000</td>\n",
       "      <td>17681.000000</td>\n",
       "    </tr>\n",
       "    <tr>\n",
       "      <th>50%</th>\n",
       "      <td>10140.000000</td>\n",
       "      <td>19839.000000</td>\n",
       "    </tr>\n",
       "    <tr>\n",
       "      <th>75%</th>\n",
       "      <td>10495.000000</td>\n",
       "      <td>21431.000000</td>\n",
       "    </tr>\n",
       "    <tr>\n",
       "      <th>max</th>\n",
       "      <td>109043.000000</td>\n",
       "      <td>201204.000000</td>\n",
       "    </tr>\n",
       "  </tbody>\n",
       "</table>\n",
       "</div>"
      ],
      "text/plain": [
       "       AVG PRESSURE (PSI)        AVG HHP\n",
       "count        17721.000000   17721.000000\n",
       "mean         10064.931983   19313.955441\n",
       "std           2593.123675    3809.480543\n",
       "min              8.000000       0.000000\n",
       "25%           9721.000000   17681.000000\n",
       "50%          10140.000000   19839.000000\n",
       "75%          10495.000000   21431.000000\n",
       "max         109043.000000  201204.000000"
      ]
     },
     "execution_count": 8,
     "metadata": {},
     "output_type": "execute_result"
    }
   ],
   "source": [
    "col1 = df1_stim_treat['AVG PRESSURE (PSI)']\n",
    "col2 = df1_stim_treat['AVG HHP']\n",
    "print('Analysis for stim_stage file, STIM_TREAT_REMARK column: \\n')\n",
    "\n",
    "df1_stim_treat.describe()"
   ]
  },
  {
   "cell_type": "markdown",
   "metadata": {},
   "source": [
    "### This part analyzes the STG_REMARK comments for stim_stage file"
   ]
  },
  {
   "cell_type": "code",
   "execution_count": 9,
   "metadata": {},
   "outputs": [
    {
     "data": {
      "text/plain": [
       "17721"
      ]
     },
     "execution_count": 9,
     "metadata": {},
     "output_type": "execute_result"
    }
   ],
   "source": [
    "df1_stg.shape[0]"
   ]
  },
  {
   "cell_type": "code",
   "execution_count": 10,
   "metadata": {},
   "outputs": [
    {
     "data": {
      "text/html": [
       "<div>\n",
       "<style scoped>\n",
       "    .dataframe tbody tr th:only-of-type {\n",
       "        vertical-align: middle;\n",
       "    }\n",
       "\n",
       "    .dataframe tbody tr th {\n",
       "        vertical-align: top;\n",
       "    }\n",
       "\n",
       "    .dataframe thead th {\n",
       "        text-align: right;\n",
       "    }\n",
       "</style>\n",
       "<table border=\"1\" class=\"dataframe\">\n",
       "  <thead>\n",
       "    <tr style=\"text-align: right;\">\n",
       "      <th></th>\n",
       "      <th>RIG_ID</th>\n",
       "      <th>AVG PRESSURE (PSI)</th>\n",
       "      <th>AVG HHP</th>\n",
       "    </tr>\n",
       "  </thead>\n",
       "  <tbody>\n",
       "    <tr>\n",
       "      <th>0</th>\n",
       "      <td>RIG_ID - 2019000021</td>\n",
       "      <td>9919.0</td>\n",
       "      <td>16793.0</td>\n",
       "    </tr>\n",
       "    <tr>\n",
       "      <th>1</th>\n",
       "      <td>RIG_ID - 2019000082</td>\n",
       "      <td>10027.0</td>\n",
       "      <td>22069.0</td>\n",
       "    </tr>\n",
       "    <tr>\n",
       "      <th>2</th>\n",
       "      <td>RIG_ID - 2019000082</td>\n",
       "      <td>9358.0</td>\n",
       "      <td>12780.0</td>\n",
       "    </tr>\n",
       "    <tr>\n",
       "      <th>3</th>\n",
       "      <td>RIG_ID - 2019000098</td>\n",
       "      <td>7280.0</td>\n",
       "      <td>8618.0</td>\n",
       "    </tr>\n",
       "    <tr>\n",
       "      <th>4</th>\n",
       "      <td>RIG_ID - 2019000021</td>\n",
       "      <td>8298.0</td>\n",
       "      <td>13950.0</td>\n",
       "    </tr>\n",
       "    <tr>\n",
       "      <th>...</th>\n",
       "      <td>...</td>\n",
       "      <td>...</td>\n",
       "      <td>...</td>\n",
       "    </tr>\n",
       "    <tr>\n",
       "      <th>17716</th>\n",
       "      <td>RIG_ID - 2019000021</td>\n",
       "      <td>11086.0</td>\n",
       "      <td>22305.0</td>\n",
       "    </tr>\n",
       "    <tr>\n",
       "      <th>17717</th>\n",
       "      <td>RIG_ID - 2019000082</td>\n",
       "      <td>9695.0</td>\n",
       "      <td>18958.0</td>\n",
       "    </tr>\n",
       "    <tr>\n",
       "      <th>17718</th>\n",
       "      <td>RIG_ID - 2019000021</td>\n",
       "      <td>10778.0</td>\n",
       "      <td>16239.0</td>\n",
       "    </tr>\n",
       "    <tr>\n",
       "      <th>17719</th>\n",
       "      <td>RIG_ID - 2019000082</td>\n",
       "      <td>10098.0</td>\n",
       "      <td>18315.0</td>\n",
       "    </tr>\n",
       "    <tr>\n",
       "      <th>17720</th>\n",
       "      <td>RIG_ID - 2019000082</td>\n",
       "      <td>9758.0</td>\n",
       "      <td>17574.0</td>\n",
       "    </tr>\n",
       "  </tbody>\n",
       "</table>\n",
       "<p>17721 rows × 3 columns</p>\n",
       "</div>"
      ],
      "text/plain": [
       "                    RIG_ID  AVG PRESSURE (PSI)  AVG HHP\n",
       "0      RIG_ID - 2019000021              9919.0  16793.0\n",
       "1      RIG_ID - 2019000082             10027.0  22069.0\n",
       "2      RIG_ID - 2019000082              9358.0  12780.0\n",
       "3      RIG_ID - 2019000098              7280.0   8618.0\n",
       "4      RIG_ID - 2019000021              8298.0  13950.0\n",
       "...                    ...                 ...      ...\n",
       "17716  RIG_ID - 2019000021             11086.0  22305.0\n",
       "17717  RIG_ID - 2019000082              9695.0  18958.0\n",
       "17718  RIG_ID - 2019000021             10778.0  16239.0\n",
       "17719  RIG_ID - 2019000082             10098.0  18315.0\n",
       "17720  RIG_ID - 2019000082              9758.0  17574.0\n",
       "\n",
       "[17721 rows x 3 columns]"
      ]
     },
     "execution_count": 10,
     "metadata": {},
     "output_type": "execute_result"
    }
   ],
   "source": [
    "df1_stg = parse_info(df1_stg,'STG_REMARK')\n",
    "df1_stg = imputation(df1_stg)\n",
    "df1_stg"
   ]
  },
  {
   "cell_type": "code",
   "execution_count": 11,
   "metadata": {},
   "outputs": [
    {
     "data": {
      "image/png": "[encoded data removed]",
      "text/plain": [
       "<Figure size 360x360 with 6 Axes>"
      ]
     },
     "metadata": {
      "needs_background": "light"
     },
     "output_type": "display_data"
    }
   ],
   "source": [
    "seaborn.pairplot(df1_stg)\n",
    "plt.show()"
   ]
  },
  {
   "cell_type": "code",
   "execution_count": 12,
   "metadata": {},
   "outputs": [
    {
     "name": "stdout",
     "output_type": "stream",
     "text": [
      "Analysis for stim_stage file, STG_REMARK column: \n",
      "\n"
     ]
    },
    {
     "data": {
      "text/html": [
       "<div>\n",
       "<style scoped>\n",
       "    .dataframe tbody tr th:only-of-type {\n",
       "        vertical-align: middle;\n",
       "    }\n",
       "\n",
       "    .dataframe tbody tr th {\n",
       "        vertical-align: top;\n",
       "    }\n",
       "\n",
       "    .dataframe thead th {\n",
       "        text-align: right;\n",
       "    }\n",
       "</style>\n",
       "<table border=\"1\" class=\"dataframe\">\n",
       "  <thead>\n",
       "    <tr style=\"text-align: right;\">\n",
       "      <th></th>\n",
       "      <th>AVG PRESSURE (PSI)</th>\n",
       "      <th>AVG HHP</th>\n",
       "    </tr>\n",
       "  </thead>\n",
       "  <tbody>\n",
       "    <tr>\n",
       "      <th>count</th>\n",
       "      <td>17721.000000</td>\n",
       "      <td>17721.000000</td>\n",
       "    </tr>\n",
       "    <tr>\n",
       "      <th>mean</th>\n",
       "      <td>10064.931983</td>\n",
       "      <td>19313.955441</td>\n",
       "    </tr>\n",
       "    <tr>\n",
       "      <th>std</th>\n",
       "      <td>2593.123675</td>\n",
       "      <td>3809.480543</td>\n",
       "    </tr>\n",
       "    <tr>\n",
       "      <th>min</th>\n",
       "      <td>8.000000</td>\n",
       "      <td>0.000000</td>\n",
       "    </tr>\n",
       "    <tr>\n",
       "      <th>25%</th>\n",
       "      <td>9721.000000</td>\n",
       "      <td>17681.000000</td>\n",
       "    </tr>\n",
       "    <tr>\n",
       "      <th>50%</th>\n",
       "      <td>10140.000000</td>\n",
       "      <td>19839.000000</td>\n",
       "    </tr>\n",
       "    <tr>\n",
       "      <th>75%</th>\n",
       "      <td>10495.000000</td>\n",
       "      <td>21431.000000</td>\n",
       "    </tr>\n",
       "    <tr>\n",
       "      <th>max</th>\n",
       "      <td>109043.000000</td>\n",
       "      <td>201204.000000</td>\n",
       "    </tr>\n",
       "  </tbody>\n",
       "</table>\n",
       "</div>"
      ],
      "text/plain": [
       "       AVG PRESSURE (PSI)        AVG HHP\n",
       "count        17721.000000   17721.000000\n",
       "mean         10064.931983   19313.955441\n",
       "std           2593.123675    3809.480543\n",
       "min              8.000000       0.000000\n",
       "25%           9721.000000   17681.000000\n",
       "50%          10140.000000   19839.000000\n",
       "75%          10495.000000   21431.000000\n",
       "max         109043.000000  201204.000000"
      ]
     },
     "execution_count": 12,
     "metadata": {},
     "output_type": "execute_result"
    }
   ],
   "source": [
    "col3 = df1_stg['AVG PRESSURE (PSI)']\n",
    "col4 = df1_stg['AVG HHP']\n",
    "print('Analysis for stim_stage file, STG_REMARK column: \\n')\n",
    "\n",
    "df1_stg.describe()"
   ]
  },
  {
   "cell_type": "markdown",
   "metadata": {},
   "source": [
    "# Recompletions file"
   ]
  },
  {
   "cell_type": "code",
   "execution_count": 13,
   "metadata": {},
   "outputs": [],
   "source": [
    "df_recom = pd.read_excel('gcbu_dnc_recompletions.xlsx')\n",
    "df2 = df_recom[['STIM_TREAT_REMARK','STG_REMARK','RIG_ID']]\n",
    "df2_stim_treat = df2[['RIG_ID','STIM_TREAT_REMARK']]\n",
    "df2_stg = df2[['RIG_ID','STG_REMARK']]"
   ]
  },
  {
   "cell_type": "code",
   "execution_count": 14,
   "metadata": {},
   "outputs": [],
   "source": [
    "df2_stim_treat = df2_stim_treat.dropna().drop_duplicates()\n",
    "df2_stg = df2_stg.dropna().drop_duplicates()"
   ]
  },
  {
   "cell_type": "markdown",
   "metadata": {},
   "source": [
    "### This part analyzes the STIM_TREAT_REMARK comments for recompletions file"
   ]
  },
  {
   "cell_type": "code",
   "execution_count": 15,
   "metadata": {},
   "outputs": [
    {
     "data": {
      "text/plain": [
       "1654"
      ]
     },
     "execution_count": 15,
     "metadata": {},
     "output_type": "execute_result"
    }
   ],
   "source": [
    "df2_stim_treat.shape[0]"
   ]
  },
  {
   "cell_type": "code",
   "execution_count": 16,
   "metadata": {},
   "outputs": [
    {
     "data": {
      "text/html": [
       "<div>\n",
       "<style scoped>\n",
       "    .dataframe tbody tr th:only-of-type {\n",
       "        vertical-align: middle;\n",
       "    }\n",
       "\n",
       "    .dataframe tbody tr th {\n",
       "        vertical-align: top;\n",
       "    }\n",
       "\n",
       "    .dataframe thead th {\n",
       "        text-align: right;\n",
       "    }\n",
       "</style>\n",
       "<table border=\"1\" class=\"dataframe\">\n",
       "  <thead>\n",
       "    <tr style=\"text-align: right;\">\n",
       "      <th></th>\n",
       "      <th>RIG_ID</th>\n",
       "      <th>AVG PRESSURE (PSI)</th>\n",
       "      <th>AVG HHP</th>\n",
       "    </tr>\n",
       "  </thead>\n",
       "  <tbody>\n",
       "    <tr>\n",
       "      <th>0</th>\n",
       "      <td>RIG_ID - 2019000082</td>\n",
       "      <td>9358.000000</td>\n",
       "      <td>12780.0</td>\n",
       "    </tr>\n",
       "    <tr>\n",
       "      <th>1</th>\n",
       "      <td>RIG_ID - 2019000098</td>\n",
       "      <td>7280.000000</td>\n",
       "      <td>8618.0</td>\n",
       "    </tr>\n",
       "    <tr>\n",
       "      <th>2</th>\n",
       "      <td>RIG_ID - 2019000084</td>\n",
       "      <td>8586.109228</td>\n",
       "      <td>7864.0</td>\n",
       "    </tr>\n",
       "    <tr>\n",
       "      <th>3</th>\n",
       "      <td>RIG_ID - 2019000098</td>\n",
       "      <td>8695.000000</td>\n",
       "      <td>11606.0</td>\n",
       "    </tr>\n",
       "    <tr>\n",
       "      <th>4</th>\n",
       "      <td>RIG_ID - 2019000098</td>\n",
       "      <td>9523.000000</td>\n",
       "      <td>16441.0</td>\n",
       "    </tr>\n",
       "    <tr>\n",
       "      <th>...</th>\n",
       "      <td>...</td>\n",
       "      <td>...</td>\n",
       "      <td>...</td>\n",
       "    </tr>\n",
       "    <tr>\n",
       "      <th>1649</th>\n",
       "      <td>RIG_ID - 2019000098</td>\n",
       "      <td>8928.000000</td>\n",
       "      <td>19547.0</td>\n",
       "    </tr>\n",
       "    <tr>\n",
       "      <th>1650</th>\n",
       "      <td>RIG_ID - 2019000098</td>\n",
       "      <td>8697.000000</td>\n",
       "      <td>18982.0</td>\n",
       "    </tr>\n",
       "    <tr>\n",
       "      <th>1651</th>\n",
       "      <td>RIG_ID - 2019000098</td>\n",
       "      <td>8929.000000</td>\n",
       "      <td>19545.0</td>\n",
       "    </tr>\n",
       "    <tr>\n",
       "      <th>1652</th>\n",
       "      <td>RIG_ID - 2019000098</td>\n",
       "      <td>9094.000000</td>\n",
       "      <td>19694.0</td>\n",
       "    </tr>\n",
       "    <tr>\n",
       "      <th>1653</th>\n",
       "      <td>RIG_ID - 2019000098</td>\n",
       "      <td>9162.000000</td>\n",
       "      <td>19998.0</td>\n",
       "    </tr>\n",
       "  </tbody>\n",
       "</table>\n",
       "<p>1654 rows × 3 columns</p>\n",
       "</div>"
      ],
      "text/plain": [
       "                   RIG_ID  AVG PRESSURE (PSI)  AVG HHP\n",
       "0     RIG_ID - 2019000082         9358.000000  12780.0\n",
       "1     RIG_ID - 2019000098         7280.000000   8618.0\n",
       "2     RIG_ID - 2019000084         8586.109228   7864.0\n",
       "3     RIG_ID - 2019000098         8695.000000  11606.0\n",
       "4     RIG_ID - 2019000098         9523.000000  16441.0\n",
       "...                   ...                 ...      ...\n",
       "1649  RIG_ID - 2019000098         8928.000000  19547.0\n",
       "1650  RIG_ID - 2019000098         8697.000000  18982.0\n",
       "1651  RIG_ID - 2019000098         8929.000000  19545.0\n",
       "1652  RIG_ID - 2019000098         9094.000000  19694.0\n",
       "1653  RIG_ID - 2019000098         9162.000000  19998.0\n",
       "\n",
       "[1654 rows x 3 columns]"
      ]
     },
     "execution_count": 16,
     "metadata": {},
     "output_type": "execute_result"
    }
   ],
   "source": [
    "df2_stim_treat = parse_info(df2_stim_treat,'STIM_TREAT_REMARK')\n",
    "df2_stim_treat = imputation(df2_stim_treat)\n",
    "df2_stim_treat"
   ]
  },
  {
   "cell_type": "code",
   "execution_count": 17,
   "metadata": {},
   "outputs": [
    {
     "data": {
      "image/png": "[encoded data removed]",
      "text/plain": [
       "<Figure size 360x360 with 6 Axes>"
      ]
     },
     "metadata": {
      "needs_background": "light"
     },
     "output_type": "display_data"
    }
   ],
   "source": [
    "seaborn.pairplot(df2_stim_treat)\n",
    "plt.show()"
   ]
  },
  {
   "cell_type": "code",
   "execution_count": 18,
   "metadata": {},
   "outputs": [
    {
     "name": "stdout",
     "output_type": "stream",
     "text": [
      "Analysis for recompletions file, STIM_TREAT_REMARK column: \n",
      "\n"
     ]
    },
    {
     "data": {
      "text/html": [
       "<div>\n",
       "<style scoped>\n",
       "    .dataframe tbody tr th:only-of-type {\n",
       "        vertical-align: middle;\n",
       "    }\n",
       "\n",
       "    .dataframe tbody tr th {\n",
       "        vertical-align: top;\n",
       "    }\n",
       "\n",
       "    .dataframe thead th {\n",
       "        text-align: right;\n",
       "    }\n",
       "</style>\n",
       "<table border=\"1\" class=\"dataframe\">\n",
       "  <thead>\n",
       "    <tr style=\"text-align: right;\">\n",
       "      <th></th>\n",
       "      <th>AVG PRESSURE (PSI)</th>\n",
       "      <th>AVG HHP</th>\n",
       "    </tr>\n",
       "  </thead>\n",
       "  <tbody>\n",
       "    <tr>\n",
       "      <th>count</th>\n",
       "      <td>1654.000000</td>\n",
       "      <td>1654.000000</td>\n",
       "    </tr>\n",
       "    <tr>\n",
       "      <th>mean</th>\n",
       "      <td>8586.109228</td>\n",
       "      <td>14415.330850</td>\n",
       "    </tr>\n",
       "    <tr>\n",
       "      <th>std</th>\n",
       "      <td>965.793424</td>\n",
       "      <td>3197.963223</td>\n",
       "    </tr>\n",
       "    <tr>\n",
       "      <th>min</th>\n",
       "      <td>595.000000</td>\n",
       "      <td>1820.000000</td>\n",
       "    </tr>\n",
       "    <tr>\n",
       "      <th>25%</th>\n",
       "      <td>8059.000000</td>\n",
       "      <td>12750.000000</td>\n",
       "    </tr>\n",
       "    <tr>\n",
       "      <th>50%</th>\n",
       "      <td>8608.000000</td>\n",
       "      <td>14180.000000</td>\n",
       "    </tr>\n",
       "    <tr>\n",
       "      <th>75%</th>\n",
       "      <td>9271.750000</td>\n",
       "      <td>15665.750000</td>\n",
       "    </tr>\n",
       "    <tr>\n",
       "      <th>max</th>\n",
       "      <td>10450.000000</td>\n",
       "      <td>91924.000000</td>\n",
       "    </tr>\n",
       "  </tbody>\n",
       "</table>\n",
       "</div>"
      ],
      "text/plain": [
       "       AVG PRESSURE (PSI)       AVG HHP\n",
       "count         1654.000000   1654.000000\n",
       "mean          8586.109228  14415.330850\n",
       "std            965.793424   3197.963223\n",
       "min            595.000000   1820.000000\n",
       "25%           8059.000000  12750.000000\n",
       "50%           8608.000000  14180.000000\n",
       "75%           9271.750000  15665.750000\n",
       "max          10450.000000  91924.000000"
      ]
     },
     "execution_count": 18,
     "metadata": {},
     "output_type": "execute_result"
    }
   ],
   "source": [
    "col5 = df2_stim_treat['AVG PRESSURE (PSI)']\n",
    "col6 = df2_stim_treat['AVG HHP']\n",
    "print('Analysis for recompletions file, STIM_TREAT_REMARK column: \\n')\n",
    "\n",
    "df2_stim_treat.describe()"
   ]
  },
  {
   "cell_type": "markdown",
   "metadata": {},
   "source": [
    "### This part analyzes the STG_REMARK comments for recompletions file"
   ]
  },
  {
   "cell_type": "code",
   "execution_count": 19,
   "metadata": {},
   "outputs": [
    {
     "data": {
      "text/plain": [
       "1654"
      ]
     },
     "execution_count": 19,
     "metadata": {},
     "output_type": "execute_result"
    }
   ],
   "source": [
    "df2_stg.shape[0]"
   ]
  },
  {
   "cell_type": "code",
   "execution_count": 20,
   "metadata": {},
   "outputs": [
    {
     "data": {
      "text/html": [
       "<div>\n",
       "<style scoped>\n",
       "    .dataframe tbody tr th:only-of-type {\n",
       "        vertical-align: middle;\n",
       "    }\n",
       "\n",
       "    .dataframe tbody tr th {\n",
       "        vertical-align: top;\n",
       "    }\n",
       "\n",
       "    .dataframe thead th {\n",
       "        text-align: right;\n",
       "    }\n",
       "</style>\n",
       "<table border=\"1\" class=\"dataframe\">\n",
       "  <thead>\n",
       "    <tr style=\"text-align: right;\">\n",
       "      <th></th>\n",
       "      <th>RIG_ID</th>\n",
       "      <th>AVG PRESSURE (PSI)</th>\n",
       "      <th>AVG HHP</th>\n",
       "    </tr>\n",
       "  </thead>\n",
       "  <tbody>\n",
       "    <tr>\n",
       "      <th>0</th>\n",
       "      <td>RIG_ID - 2019000082</td>\n",
       "      <td>9358.000000</td>\n",
       "      <td>12780.0</td>\n",
       "    </tr>\n",
       "    <tr>\n",
       "      <th>1</th>\n",
       "      <td>RIG_ID - 2019000098</td>\n",
       "      <td>7280.000000</td>\n",
       "      <td>8618.0</td>\n",
       "    </tr>\n",
       "    <tr>\n",
       "      <th>2</th>\n",
       "      <td>RIG_ID - 2019000084</td>\n",
       "      <td>8586.109228</td>\n",
       "      <td>7864.0</td>\n",
       "    </tr>\n",
       "    <tr>\n",
       "      <th>3</th>\n",
       "      <td>RIG_ID - 2019000098</td>\n",
       "      <td>8695.000000</td>\n",
       "      <td>11606.0</td>\n",
       "    </tr>\n",
       "    <tr>\n",
       "      <th>4</th>\n",
       "      <td>RIG_ID - 2019000098</td>\n",
       "      <td>9523.000000</td>\n",
       "      <td>16441.0</td>\n",
       "    </tr>\n",
       "    <tr>\n",
       "      <th>...</th>\n",
       "      <td>...</td>\n",
       "      <td>...</td>\n",
       "      <td>...</td>\n",
       "    </tr>\n",
       "    <tr>\n",
       "      <th>1649</th>\n",
       "      <td>RIG_ID - 2019000098</td>\n",
       "      <td>8928.000000</td>\n",
       "      <td>19547.0</td>\n",
       "    </tr>\n",
       "    <tr>\n",
       "      <th>1650</th>\n",
       "      <td>RIG_ID - 2019000098</td>\n",
       "      <td>8697.000000</td>\n",
       "      <td>18982.0</td>\n",
       "    </tr>\n",
       "    <tr>\n",
       "      <th>1651</th>\n",
       "      <td>RIG_ID - 2019000098</td>\n",
       "      <td>8929.000000</td>\n",
       "      <td>19545.0</td>\n",
       "    </tr>\n",
       "    <tr>\n",
       "      <th>1652</th>\n",
       "      <td>RIG_ID - 2019000098</td>\n",
       "      <td>9094.000000</td>\n",
       "      <td>19694.0</td>\n",
       "    </tr>\n",
       "    <tr>\n",
       "      <th>1653</th>\n",
       "      <td>RIG_ID - 2019000098</td>\n",
       "      <td>9162.000000</td>\n",
       "      <td>19998.0</td>\n",
       "    </tr>\n",
       "  </tbody>\n",
       "</table>\n",
       "<p>1654 rows × 3 columns</p>\n",
       "</div>"
      ],
      "text/plain": [
       "                   RIG_ID  AVG PRESSURE (PSI)  AVG HHP\n",
       "0     RIG_ID - 2019000082         9358.000000  12780.0\n",
       "1     RIG_ID - 2019000098         7280.000000   8618.0\n",
       "2     RIG_ID - 2019000084         8586.109228   7864.0\n",
       "3     RIG_ID - 2019000098         8695.000000  11606.0\n",
       "4     RIG_ID - 2019000098         9523.000000  16441.0\n",
       "...                   ...                 ...      ...\n",
       "1649  RIG_ID - 2019000098         8928.000000  19547.0\n",
       "1650  RIG_ID - 2019000098         8697.000000  18982.0\n",
       "1651  RIG_ID - 2019000098         8929.000000  19545.0\n",
       "1652  RIG_ID - 2019000098         9094.000000  19694.0\n",
       "1653  RIG_ID - 2019000098         9162.000000  19998.0\n",
       "\n",
       "[1654 rows x 3 columns]"
      ]
     },
     "execution_count": 20,
     "metadata": {},
     "output_type": "execute_result"
    }
   ],
   "source": [
    "df2_stg = parse_info(df2_stg,'STG_REMARK')\n",
    "df2_stg = imputation(df2_stg)\n",
    "df2_stg"
   ]
  },
  {
   "cell_type": "code",
   "execution_count": 21,
   "metadata": {},
   "outputs": [
    {
     "data": {
      "image/png": "[encoded data removed]",
      "text/plain": [
       "<Figure size 360x360 with 6 Axes>"
      ]
     },
     "metadata": {
      "needs_background": "light"
     },
     "output_type": "display_data"
    }
   ],
   "source": [
    "seaborn.pairplot(df2_stg)\n",
    "plt.show()"
   ]
  },
  {
   "cell_type": "code",
   "execution_count": 22,
   "metadata": {},
   "outputs": [
    {
     "name": "stdout",
     "output_type": "stream",
     "text": [
      "Analysis for recompletions file, STG_REMARK column: \n",
      "\n"
     ]
    },
    {
     "data": {
      "text/html": [
       "<div>\n",
       "<style scoped>\n",
       "    .dataframe tbody tr th:only-of-type {\n",
       "        vertical-align: middle;\n",
       "    }\n",
       "\n",
       "    .dataframe tbody tr th {\n",
       "        vertical-align: top;\n",
       "    }\n",
       "\n",
       "    .dataframe thead th {\n",
       "        text-align: right;\n",
       "    }\n",
       "</style>\n",
       "<table border=\"1\" class=\"dataframe\">\n",
       "  <thead>\n",
       "    <tr style=\"text-align: right;\">\n",
       "      <th></th>\n",
       "      <th>AVG PRESSURE (PSI)</th>\n",
       "      <th>AVG HHP</th>\n",
       "    </tr>\n",
       "  </thead>\n",
       "  <tbody>\n",
       "    <tr>\n",
       "      <th>count</th>\n",
       "      <td>1654.000000</td>\n",
       "      <td>1654.000000</td>\n",
       "    </tr>\n",
       "    <tr>\n",
       "      <th>mean</th>\n",
       "      <td>8586.109228</td>\n",
       "      <td>14415.330850</td>\n",
       "    </tr>\n",
       "    <tr>\n",
       "      <th>std</th>\n",
       "      <td>965.793424</td>\n",
       "      <td>3197.963223</td>\n",
       "    </tr>\n",
       "    <tr>\n",
       "      <th>min</th>\n",
       "      <td>595.000000</td>\n",
       "      <td>1820.000000</td>\n",
       "    </tr>\n",
       "    <tr>\n",
       "      <th>25%</th>\n",
       "      <td>8059.000000</td>\n",
       "      <td>12750.000000</td>\n",
       "    </tr>\n",
       "    <tr>\n",
       "      <th>50%</th>\n",
       "      <td>8608.000000</td>\n",
       "      <td>14180.000000</td>\n",
       "    </tr>\n",
       "    <tr>\n",
       "      <th>75%</th>\n",
       "      <td>9271.750000</td>\n",
       "      <td>15665.750000</td>\n",
       "    </tr>\n",
       "    <tr>\n",
       "      <th>max</th>\n",
       "      <td>10450.000000</td>\n",
       "      <td>91924.000000</td>\n",
       "    </tr>\n",
       "  </tbody>\n",
       "</table>\n",
       "</div>"
      ],
      "text/plain": [
       "       AVG PRESSURE (PSI)       AVG HHP\n",
       "count         1654.000000   1654.000000\n",
       "mean          8586.109228  14415.330850\n",
       "std            965.793424   3197.963223\n",
       "min            595.000000   1820.000000\n",
       "25%           8059.000000  12750.000000\n",
       "50%           8608.000000  14180.000000\n",
       "75%           9271.750000  15665.750000\n",
       "max          10450.000000  91924.000000"
      ]
     },
     "execution_count": 22,
     "metadata": {},
     "output_type": "execute_result"
    }
   ],
   "source": [
    "col7 = df2_stg['AVG PRESSURE (PSI)']\n",
    "col8 = df2_stg['AVG HHP']\n",
    "print('Analysis for recompletions file, STG_REMARK column: \\n')\n",
    "\n",
    "df2_stg.describe()"
   ]
  },
  {
   "cell_type": "code",
   "execution_count": null,
   "metadata": {},
   "outputs": [],
   "source": []
  }
 ],
 "metadata": {
  "kernelspec": {
   "display_name": "Python 3",
   "language": "python",
   "name": "python3"
  },
  "language_info": {
   "codemirror_mode": {
    "name": "ipython",
    "version": 3
   },
   "file_extension": ".py",
   "mimetype": "text/x-python",
   "name": "python",
   "nbconvert_exporter": "python",
   "pygments_lexer": "ipython3",
   "version": "3.7.2"
  }
 },
 "nbformat": 4,
 "nbformat_minor": 2
}
